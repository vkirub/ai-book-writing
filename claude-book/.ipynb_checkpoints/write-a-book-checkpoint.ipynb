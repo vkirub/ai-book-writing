{
 "cells": [
  {
   "cell_type": "code",
   "execution_count": 1,
   "id": "1aaf94af-0859-43a6-beaa-2d00529cb91a",
   "metadata": {},
   "outputs": [
    {
     "name": "stdout",
     "output_type": "stream",
     "text": [
      "\u001b[34m3690k1k3\u001b[m\u001b[m/         claude_book.json  gemini.py         write-book.py\n",
      "Untitled.ipynb    claude_book.txt   \u001b[34mjhve9m41\u001b[m\u001b[m/\n"
     ]
    }
   ],
   "source": [
    "ls"
   ]
  },
  {
   "cell_type": "code",
   "execution_count": null,
   "id": "1e5a3e3a-f3d7-4319-bc19-6ebd2a13154b",
   "metadata": {},
   "outputs": [],
   "source": []
  }
 ],
 "metadata": {
  "kernelspec": {
   "display_name": "Python 3 (ipykernel)",
   "language": "python",
   "name": "python3"
  },
  "language_info": {
   "codemirror_mode": {
    "name": "ipython",
    "version": 3
   },
   "file_extension": ".py",
   "mimetype": "text/x-python",
   "name": "python",
   "nbconvert_exporter": "python",
   "pygments_lexer": "ipython3",
   "version": "3.12.7"
  }
 },
 "nbformat": 4,
 "nbformat_minor": 5
}
